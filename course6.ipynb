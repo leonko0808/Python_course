{
 "cells": [
  {
   "cell_type": "markdown",
   "metadata": {},
   "source": [
    "### 網頁爬蟲\n",
    "今天我們先教最簡單的一種，之後我們會碰到各種不同的情況，\n",
    "今天這招幾乎可以破解60%以上的網頁\n",
    "\n",
    "首先我們要先import requests，可以把它想像成是瀏覽器"
   ]
  },
  {
   "cell_type": "code",
   "execution_count": 4,
   "metadata": {},
   "outputs": [],
   "source": [
    "import requests\n",
    "res = requests.get('http://www.wibibi.com/info.php?tid=116')"
   ]
  },
  {
   "cell_type": "markdown",
   "metadata": {},
   "source": [
    "### 網頁代碼\n",
    "取得網頁的原始碼"
   ]
  },
  {
   "cell_type": "code",
   "execution_count": 5,
   "metadata": {
    "scrolled": false
   },
   "outputs": [
    {
     "data": {
      "text/plain": [
       "'<!DOCTYPE HTML PUBLIC \"-//W3C//DTD HTML 4.01 Transitional//EN\"\\n\"http://www.w3.org/TR/html4/loose.dtd\">\\n<html>\\n<head>\\n<title>HTML Table 表格 - Wibibi</title>\\n<meta http-equiv=\"Content-Type\" content=\"text/html; charset=utf-8\">\\n<meta name=\"description\" content=\"HTML 網頁設計不可或缺的元素就是表格（Table），通常表格用來做版面的排版，而表格的用法包含了幾個重要的標籤，分別是 table、tr 與 td 這幾個重點，組合起來才是\">\\n<meta name=\"keywords\" content=\"HTML,Table,表格\">\\n<meta name=\"viewport\" content=\"width=device-width, initial-scale=1.0\">\\n<meta name=\"robots\" content=\"max-image-preview:large\">\\n<link href=\"css/main.css\" rel=\"stylesheet\" type=\"text/css\" media=\"(min-width:641px)\" />\\n<link href=\"css/main_small.css\" rel=\"stylesheet\" type=\"text/css\" media=\"(max-width:640px)\" />\\n<link href=\"css/info.css\" rel=\"stylesheet\" type=\"text/css\" media=\"(min-width:641px)\" />\\n<link href=\"css/info_small.css\" rel=\"stylesheet\" type=\"text/css\" media=\"(max-width:640px)\" />\\n<link rel=\"shortcut icon\" href=\"favicon.ico\" >\\n</head>\\n<body>\\n<div id=\"TopDiv\">\\n\\t<div id=\\'HeaderBox\\'>\\n\\t\\t<div id=\\'SiteLogo\\'><a href=\\'/\\'><img src=\\'images/logo.png\\' border=\\'0\\'></a></div>\\n\\t\\t<div id=\"toggle\"><img src=\"images/ControlMenuIcon.png\"></div>\\n\\t\\t<div id=\"SearchBox\">\\n\\n\\t\\t</div>\\n\\t\\t<div style=\"clear:both;\"></div>\\n\\t</div>\\n</div>\\n<div id=\\'Menu\\'>\\n\\t<ul>\\n\\t<li><a href=\\'/\\'>首頁</a></li>\\n\\t\\t<li><a href=\\'c.php?cid=9\\'>HTML</a></li>\\n\\t\\t<li><a href=\\'c.php?cid=20\\'>HTML5</a></li>\\n\\t\\t<li><a href=\\'c.php?cid=5\\'>PHP</a></li>\\n\\t\\t<li><a href=\\'c.php?cid=19\\'>MySQL</a></li>\\n\\t\\t<li><a href=\\'c.php?cid=7\\'>CSS</a></li>\\n\\t\\t<li><a href=\\'c.php?cid=21\\'>CSS3</a></li>\\n\\t\\t<li><a href=\\'c.php?cid=10\\'>JavaScript</a></li>\\n\\t\\t<li><a href=\\'c.php?cid=18\\'>軟體介紹</a></li>\\n\\t\\t<li><a href=\\'c.php?cid=14\\'>其它</a></li>\\n\\t\\t<div style=\\'clear:both;\\'></div>\\n\\t</ul>\\n</div><div id=\\'navi\\'>\\n\\t<div id=\"navi_link\">\\t\\n\\t\\t<a href=\\'/\\'>Home</a> &nbsp;›&nbsp; <a href=\\'c.php?cid=9\\'>HTML</a> &nbsp;›&nbsp; HTML Table 表格\\n\\t</div>\\n</div>\\n<div id=\"container\">\\n\\t<div id=\\'MainShow\\'>\\n\\t\\t<h1>HTML Table 表格</h1>\\n\\t\\t<!--原生_文章內置_1 Start-->\\n\\t\\t<div id=\"Ads1\">\\n\\t\\t\\t\\t\\n\\t\\t<script async src=\"//pagead2.googlesyndication.com/pagead/js/adsbygoogle.js\"></script>\\n\\t\\t<ins class=\"adsbygoogle\"\\n\\t\\t\\t style=\"display:block; text-align:center;\"\\n\\t\\t\\t data-ad-format=\"fluid\"\\n\\t\\t\\t data-ad-layout=\"in-article\"\\n\\t\\t\\t data-ad-client=\"ca-pub-5633897948803345\"\\n\\t\\t\\t data-ad-slot=\"1174116920\"></ins>\\n\\t\\t<script>\\n\\t\\t\\t (adsbygoogle = window.adsbygoogle || []).push({});\\n\\t\\t</script>\\n\\t\\t\\n\\t\\t\\t\\t</div>\\n\\t\\t<!--原生_文章內置_1 End-->\\n\\t\\t<div id=\\'content\\'>HTML 網頁設計不可或缺的元素就是表格（Table），通常表格用來做版面的排版，而表格的用法包含了幾個重要的標籤，分別是 table、tr 與 td 這幾個重點，組合起來才是個完整的表格，以下做個簡單的表格範例。<div id=\"CodeBox\">&lt;table border=\"1\"&gt;<br>\\u3000&lt;tr&gt;<br>\\u3000&lt;td&gt;這裡可以放表格內容&lt;/td&gt;<br>\\u3000&lt;/tr&gt;<br>&lt;/table&gt;<br></div>呈現結果如下<br><table border=\"1\"><tbody><tr><td>這裡可以放表格內容</td></tr></tbody></table><br>範例中使用了&lt;table&gt; 與 &lt;/table&gt; 的標籤把內容包起來，&lt;tr&gt;&lt;/tr&gt; 標籤代表的是一行，而 &lt;td&gt;&lt;/td&gt; 標籤則代表一列，為了清楚呈現，我們還為 table 加上了 border=\"1\" 的設定，這代表這個 table 的邊框粗細是 1，在實際使用上你也可以設定為其它的値，例如 border=\"0\" 則不會顯示邊框。請注意 HTML 語法都必須用一個開始標籤與一個結束標籤把內容包起來，開始標籤與結束標籤是對等的，缺一不可。<br><br>除了可以寫一個單純的表格之外，我們還可以設定 table 的寬度、高度或邊框樣式，要做這些設定，你必須先了解幾個能夠控制表格的元素，例如 width、border、background ... 等。<br><ul><li>width：控制 table 的寬度</li><li>border：控制 table 邊框的粗細</li><li>background：控制背景圖片</li><li>colspan：控制儲存格橫跨幾個欄位</li><li>rowspan：控制儲存格垂直跨幾個欄位<br></li></ul>接著我們寫幾個範例<br><br>兩個欄位的 table 表格範例<br><div id=\"CodeBox\">&lt;table width=\"300\" border=\"1\"&gt;<br>\\u3000&lt;tr&gt;<br>\\u3000&lt;td&gt;這裡是第一個欄位&lt;/td&gt;<br>\\u3000&lt;td&gt;這裡是第二個欄位&lt;/td&gt;<br>\\u3000&lt;/tr&gt;<br>&lt;/table&gt;<br></div>呈現結果如下<br><table width=\"300\" border=\"1\"><tbody><tr><td>這裡是第一個欄位</td><td>這裡是第二個欄位</td></tr></tbody></table><br><br>兩行兩欄位的 Table 表格範例<div id=\"CodeBox\">&lt;table border=\"1\"&gt;<br>\\u3000&lt;tr&gt;<br>\\u3000&lt;td&gt;這裡是第一行的第一個欄位&lt;/td&gt;<br>\\u3000&lt;td&gt;這裡是第一行的第二個欄位&lt;/td&gt;<br>\\u3000&lt;/tr&gt;<br>\\u3000&lt;tr&gt;<br>\\u3000&lt;td&gt;這裡是第二行的第一個欄位&lt;/td&gt;<br>\\u3000&lt;td&gt;這裡是第二行的第二個欄位&lt;/td&gt;<br>\\u3000&lt;/tr&gt;<br>&lt;/table&gt;<br></div>呈現結果如下<br><table border=\"1\"><tbody><tr><td>這裡是第一行的第一個欄位</td><td>這裡是第一行的第二個欄位</td></tr><tr><td>這裡是第二行的第一個欄位</td><td>這裡是第二行的第二個欄位</td></tr></tbody></table><br>接著我們把第一行變成一個欄位<div id=\"CodeBox\">&lt;table border=\"1\"&gt;<br>\\u3000&lt;tr&gt;<br>\\u3000&lt;td colspan=\"2\"&gt;這裡是第一行&lt;/td&gt;<br>\\u3000&lt;/tr&gt;<br>\\u3000&lt;tr&gt;<br>\\u3000&lt;td&gt;這裡是第二行的第一個欄位&lt;/td&gt;<br>\\u3000&lt;td&gt;這裡是第二行的第二個欄位&lt;/td&gt;<br>\\u3000&lt;/tr&gt;<br>&lt;/table&gt;<br></div>呈現結果如下<br><table border=\"1\"><tbody><tr><td colspan=\"2\">這裡是第一行</td></tr><tr><td>這裡是第二行的第一個欄位</td><td>這裡是第二行的第二個欄位</td></tr></tbody></table><br>最後做一個兩欄位的 Table，第一個欄位 rowspan=\"2\"，第二個欄位有兩行<div id=\"CodeBox\">&lt;table border=\"1\"&gt;<br>\\u3000&lt;tr&gt;<br>\\u3000&lt;td rowspan=\"2\"&gt;這是第一個欄位&lt;/td&gt;<br>\\u3000&lt;td&gt;這裡是第二個欄位第一行&lt;/td&gt;<br>\\u3000&lt;/tr&gt;<br>\\u3000&lt;tr&gt;<br>\\u3000&lt;td&gt;這裡是第二個欄位第二行&lt;/td&gt;<br>\\u3000&lt;/tr&gt;<br>&lt;/table&gt;</div>呈現結果<table border=\"1\"><tr><td rowspan=\"2\">這是第一個欄位</td><td>這裡是第二個欄位第一行</td></tr><tr><td>這裡是第二個欄位第二行</td></tr></table><br><br><b>延伸閱讀</b><ul><li><a href=\"info.php?tid=148\">HTML 水平置中與垂直置中</a></li><li><a href=\"info.php?tid=439\" title=\"HTML Table 表格文字顏色\">HTML Table 表格文字顏色</a></li><li><a href=\"info.php?tid=440\" title=\"HTML Table 表格的文字大小與字型\">HTML Table 表格的文字大小與字型</a></li><li><a href=\"info.php?tid=128\">HTML 背景顏色 bgcolor 與背景圖片 background 設定</a></li><li><a href=\"info.php?tid=86\" title=\"CSS border 邊框\">CSS border 邊框</a></li><li><a href=\"info.php?tid=441\" title=\"HTML Table 表格邊框顏色與樣式設計\">HTML Table 表格邊框顏色與樣式設計</a></li><li><a href=\"info.php?tid=442\" title=\"HTML Table 表格背景顏色\">HTML Table 表格背景顏色</a></li><li><a href=\"info.php?tid=HTML_Table_cellpadding_%E5%B1%AC%E6%80%A7\" title=\"HTML Table cellpadding 屬性\">HTML Table cellpadding 屬性</a></li></ul></div>\\n\\t\\t\\t\\t\\n\\t\\t<div id=\"Ads2\">\\n\\t\\t<!--原生_文章內置_2 Start-->\\n\\t\\t\\n\\t\\t<script async src=\"//pagead2.googlesyndication.com/pagead/js/adsbygoogle.js\"></script>\\n\\t\\t<ins class=\"adsbygoogle\"\\n\\t\\t\\t style=\"display:block; text-align:center;\"\\n\\t\\t\\t data-ad-format=\"fluid\"\\n\\t\\t\\t data-ad-layout=\"in-article\"\\n\\t\\t\\t data-ad-client=\"ca-pub-5633897948803345\"\\n\\t\\t\\t data-ad-slot=\"8935776588\"></ins>\\n\\t\\t<script>\\n\\t\\t\\t (adsbygoogle = window.adsbygoogle || []).push({});\\n\\t\\t</script>\\n\\t\\t\\n\\t\\t<!--原生_文章內置_2 End-->\\n\\t\\t</div>\\t\\t\\n\\t\\t\\t\\t\\t\\t<div id=\"SuggestTopic\">\\n\\t\\t<p>您可能會想看</p>\\n\\t\\t<ul>\\n\\t\\t\\t\\t<li><a href=\"info.php?tid=HTML_div_%E6%A8%99%E7%B1%A4\">HTML div 標籤</a></li>\\n\\t\\t\\t\\t<li><a href=\"info.php?tid=%E8%A8%AD%E8%A8%88_HTML_%E5%9C%96%E7%89%87%E8%88%87%E5%9C%96%E7%89%87%E9%82%8A%E6%A1%86%E9%96%93%E7%9A%84%E8%B7%9D%E9%9B%A2\">設計 HTML 圖片與圖片邊框間的距離</a></li>\\n\\t\\t\\t\\t<li><a href=\"info.php?tid=DIV_%E5%8D%80%E5%A1%8A%E5%85%A7%E6%96%87%E5%AD%97%E8%88%87%E9%82%8A%E6%A1%86%E7%9A%84%E8%B7%9D%E9%9B%A2%E8%AA%BF%E6%95%B4\">DIV 區塊內文字與邊框的距離調整</a></li>\\n\\t\\t\\t\\t<li><a href=\"info.php?tid=HTML_TABLE_%E8%A1%A8%E6%A0%BC%E5%85%A7%E7%9A%84%E6%96%87%E5%AD%97%E8%A1%8C%E9%AB%98\">HTML TABLE 表格內的文字行高</a></li>\\n\\t\\t\\t\\t<li><a href=\"info.php?tid=DIV_%E5%8D%80%E5%A1%8A%E5%85%A7%E7%9A%84%E6%96%87%E5%AD%97%E8%A1%8C%E9%AB%98%E8%A8%AD%E8%A8%88\">DIV 區塊內的文字行高設計</a></li>\\n\\t\\t\\t\\t<li><a href=\"info.php?tid=%E6%9B%BF_HTML_button_%E6%8C%89%E9%88%95%E5%A2%9E%E5%8A%A0%E8%83%8C%E6%99%AF%E5%9C%96%E7%89%87\">替 HTML button 按鈕增加背景圖片</a></li>\\n\\t\\t\\t\\t<li><a href=\"info.php?tid=HTML_img_title_%E8%88%87_img_alt_%E7%9A%84%E5%B7%AE%E5%88%A5\">HTML img title 與 img alt 的差別</a></li>\\n\\t\\t\\t\\t<li><a href=\"info.php?tid=%E7%94%A8_CSS_%E8%A8%AD%E8%A8%88_HTML_%E8%A1%A8%E6%A0%BC%E6%AC%84%E4%BD%8D%E5%85%A7%E6%96%87%E5%AD%97%E9%9D%A0%E4%B8%8B%E5%B0%8D%E9%BD%8A\">用 CSS 設計 HTML 表格欄位內文字靠下對齊</a></li>\\n\\t\\t\\t\\t<li><a href=\"info.php?tid=%E7%94%A8_CSS_%E8%A8%AD%E8%A8%88_HTML_%E8%A1%A8%E6%A0%BC%E6%AC%84%E4%BD%8D%E5%85%A7%E6%96%87%E5%AD%97%E9%9D%A0%E4%B8%8A%E5%B0%8D%E9%BD%8A\">用 CSS 設計 HTML 表格欄位內文字靠上對齊</a></li>\\n\\t\\t\\t\\t<li><a href=\"info.php?tid=HTML_Table_colspan_%E5%B1%AC%E6%80%A7\">HTML Table colspan 屬性</a></li>\\n\\t\\t\\t\\t</ul>\\n\\t\\t</div>\\n\\t\\t\\t\\t<!--相符內容 Start-->\\n\\t\\t<div id=\"Ads4\">\\n\\t\\t\\n\\t\\t<script async src=\"//pagead2.googlesyndication.com/pagead/js/adsbygoogle.js\"></script>\\n\\t\\t<ins class=\"adsbygoogle\"\\n\\t\\t\\t style=\"display:block\"\\n\\t\\t\\t data-ad-format=\"autorelaxed\"\\n\\t\\t\\t data-ad-client=\"ca-pub-5633897948803345\"\\n\\t\\t\\t data-ad-slot=\"6965838540\"></ins>\\n\\t\\t<script>\\n\\t\\t\\t (adsbygoogle = window.adsbygoogle || []).push({});\\n\\t\\t</script>\\t\\t\\n\\t\\t\\n\\t\\t</div>\\n\\t\\t<!--相符內容 End-->\\n\\t\\t\\t</div>\\n\\t<div id=\\'sidebar_right\\'>\\n\\t\\t<div id=\"sidebar_aff\"><iframe src=\"sidebar_aff.php?sec=1\" name=\"mainframe1\" id=\"mainframe1\" marginwidth=\"0\" marginheight=\"0\" scrolling=\"No\" frameborder=\"0\" onload=\"Javascript:SetCwinHeight1()\"></iframe></div>\\n\\t\\t\\t\\t<div id=\"Ads5\">\\n\\t\\t\\t\\n\\t\\t<script async src=\"//pagead2.googlesyndication.com/pagead/js/adsbygoogle.js\"></script>\\n\\t\\t<!-- Wibibi_回應式_1 -->\\n\\t\\t<ins class=\"adsbygoogle\"\\n\\t\\t\\t style=\"display:block\"\\n\\t\\t\\t data-ad-client=\"ca-pub-5633897948803345\"\\n\\t\\t\\t data-ad-slot=\"7789038844\"\\n\\t\\t\\t data-ad-format=\"auto\"></ins>\\n\\t\\t<script>\\n\\t\\t(adsbygoogle = window.adsbygoogle || []).push({});\\n\\t\\t</script>\\t\\t\\n\\t\\t\\n\\t\\t</div>\\n\\t\\t<div id=\"ToDayHotList\">\\n\\t\\t<p>今日熱門文章</p>\\n\\t\\t<ul>\\n\\t\\t\\t\\t<li><a href=\"info.php?tid=MySQLSELECTWHEREdate%E7%AD%89%E6%96%BC%E4%B8%8A%E5%80%8B%E6%9C%88%E7%9A%84%E6%A2%9D%E4%BB%B6%E5%88%A4%E6%96%B7%E5%AF%AB%E6%B3%95\">MySQL SELECT WHERE date 等於上個月的條件判斷寫法</a></li>\\n\\t\\t\\t\\t<li><a href=\"info.php?tid=MySQLSELECTWHEREdate%E7%AD%89%E6%96%BC%E6%9C%AC%E6%9C%88%E7%9A%84%E6%A2%9D%E4%BB%B6%E5%88%A4%E6%96%B7%E5%AF%AB%E6%B3%95\">MySQL SELECT WHERE date 等於本月的條件判斷寫法</a></li>\\n\\t\\t\\t\\t<li><a href=\"info.php?tid=MySQLSELECTWHEREdate%E7%AD%89%E6%96%BC%E6%98%A8%E5%A4%A9%E7%9A%84%E6%A2%9D%E4%BB%B6%E5%88%A4%E6%96%B7%E5%AF%AB%E6%B3%95\">MySQL SELECT WHERE date 等於昨天的條件判斷寫法</a></li>\\n\\t\\t\\t\\t<li><a href=\"info.php?tid=PHPmysqli_set_charset%E5%87%BD%E5%BC%8F%E8%A8%AD%E5%AE%9A%E5%AD%97%E7%AC%A6%E7%B7%A8%E7%A2%BC\">PHP mysqli_set_charset 函式設定字符編碼</a></li>\\n\\t\\t\\t\\t<li><a href=\"info.php?tid=PHPmysqli_connect%E8%B3%87%E6%96%99%E5%BA%AB%E9%80%A3%E7%B7%9A%E5%87%BD%E5%BC%8F\">PHP: mysqli_connect 資料庫連線函式</a></li>\\n\\t\\t\\t\\t<li><a href=\"info.php?tid=MySQLSELECT%E5%88%A4%E6%96%B7%E4%BB%8A%E5%A4%A9%E4%B9%8B%E5%89%8D%E6%88%96%E6%9F%90%E5%A4%A9%E4%B9%8B%E5%89%8D%E7%9A%84%E6%97%A5%E6%9C%9F%E6%A2%9D%E4%BB%B6%E5%88%A4%E6%96%B7%E5%AF%AB%E6%B3%95\">MySQL SELECT 判斷今天之前或某天之前的日期條件判斷寫法</a></li>\\n\\t\\t\\t\\t<li><a href=\"info.php?tid=MySQLSELECTWHEREdate%E7%AD%89%E6%96%BC%E4%BB%8A%E5%A4%A9%E7%9A%84%E6%A2%9D%E4%BB%B6%E5%88%A4%E6%96%B7%E5%AF%AB%E6%B3%95\">MySQL SELECT WHERE date 等於今天的條件判斷寫法</a></li>\\n\\t\\t\\t\\t<li><a href=\"info.php?tid=HTML_div_%E6%A8%99%E7%B1%A4\">HTML div 標籤</a></li>\\n\\t\\t\\t\\t<li><a href=\"info.php?tid=CSS_Attribute_Selectors_%E5%B1%AC%E6%80%A7%E9%81%B8%E6%93%87%E5%99%A8\">CSS Attribute Selectors 屬性選擇器</a></li>\\n\\t\\t\\t\\t<li><a href=\"info.php?tid=%E6%9B%BF_CSS_span_%E5%8D%80%E5%9F%9F%E5%A2%9E%E5%8A%A0%E9%99%B0%E5%BD%B1%E6%95%88%E6%9E%9C\">替 CSS span 區域增加陰影效果</a></li>\\n\\t\\t\\t\\t</ul>\\n\\t\\t</div>\\t\\t\\t\\n\\t\\t<div id=\\'Ads6\\'>\\n\\t\\t\\n\\t\\t<script async src=\"//pagead2.googlesyndication.com/pagead/js/adsbygoogle.js\"></script>\\n\\t\\t<!-- Wibibi_回應式_2 -->\\n\\t\\t<ins class=\"adsbygoogle\"\\n\\t\\t\\t style=\"display:block\"\\n\\t\\t\\t data-ad-client=\"ca-pub-5633897948803345\"\\n\\t\\t\\t data-ad-slot=\"7844879168\"\\n\\t\\t\\t data-ad-format=\"auto\"></ins>\\n\\t\\t<script>\\n\\t\\t(adsbygoogle = window.adsbygoogle || []).push({});\\n\\t\\t</script>\\t\\n\\t\\t\\n\\t\\t</div>\\n\\t\\t<div id=\"NowHotTopicList\">\\n\\t\\t<p>即時熱門文章</p>\\n\\t\\t<ul>\\n\\t\\t\\t\\t<li><a href=\"info.php?tid=MySQLSELECTWHEREdate%E7%AD%89%E6%96%BC%E4%B8%8A%E5%80%8B%E6%9C%88%E7%9A%84%E6%A2%9D%E4%BB%B6%E5%88%A4%E6%96%B7%E5%AF%AB%E6%B3%95\">MySQL SELECT WHERE date 等於上個月的條件判斷寫法</a></li>\\n\\t\\t\\t\\t<li><a href=\"info.php?tid=MySQLSELECTWHEREdate%E7%AD%89%E6%96%BC%E6%9C%AC%E6%9C%88%E7%9A%84%E6%A2%9D%E4%BB%B6%E5%88%A4%E6%96%B7%E5%AF%AB%E6%B3%95\">MySQL SELECT WHERE date 等於本月的條件判斷寫法</a></li>\\n\\t\\t\\t\\t<li><a href=\"info.php?tid=MySQLSELECTWHEREdate%E7%AD%89%E6%96%BC%E6%98%A8%E5%A4%A9%E7%9A%84%E6%A2%9D%E4%BB%B6%E5%88%A4%E6%96%B7%E5%AF%AB%E6%B3%95\">MySQL SELECT WHERE date 等於昨天的條件判斷寫法</a></li>\\n\\t\\t\\t\\t<li><a href=\"info.php?tid=PHPmysqli_set_charset%E5%87%BD%E5%BC%8F%E8%A8%AD%E5%AE%9A%E5%AD%97%E7%AC%A6%E7%B7%A8%E7%A2%BC\">PHP mysqli_set_charset 函式設定字符編碼</a></li>\\n\\t\\t\\t\\t<li><a href=\"info.php?tid=PHPmysqli_connect%E8%B3%87%E6%96%99%E5%BA%AB%E9%80%A3%E7%B7%9A%E5%87%BD%E5%BC%8F\">PHP: mysqli_connect 資料庫連線函式</a></li>\\n\\t\\t\\t\\t<li><a href=\"info.php?tid=MySQLSELECT%E5%88%A4%E6%96%B7%E4%BB%8A%E5%A4%A9%E4%B9%8B%E5%89%8D%E6%88%96%E6%9F%90%E5%A4%A9%E4%B9%8B%E5%89%8D%E7%9A%84%E6%97%A5%E6%9C%9F%E6%A2%9D%E4%BB%B6%E5%88%A4%E6%96%B7%E5%AF%AB%E6%B3%95\">MySQL SELECT 判斷今天之前或某天之前的日期條件判斷寫法</a></li>\\n\\t\\t\\t\\t<li><a href=\"info.php?tid=MySQLSELECTWHEREdate%E7%AD%89%E6%96%BC%E4%BB%8A%E5%A4%A9%E7%9A%84%E6%A2%9D%E4%BB%B6%E5%88%A4%E6%96%B7%E5%AF%AB%E6%B3%95\">MySQL SELECT WHERE date 等於今天的條件判斷寫法</a></li>\\n\\t\\t\\t\\t<li><a href=\"info.php?tid=HTML_div_%E6%A8%99%E7%B1%A4\">HTML div 標籤</a></li>\\n\\t\\t\\t\\t<li><a href=\"info.php?tid=CSS_Attribute_Selectors_%E5%B1%AC%E6%80%A7%E9%81%B8%E6%93%87%E5%99%A8\">CSS Attribute Selectors 屬性選擇器</a></li>\\n\\t\\t\\t\\t<li><a href=\"info.php?tid=%E6%9B%BF_CSS_span_%E5%8D%80%E5%9F%9F%E5%A2%9E%E5%8A%A0%E9%99%B0%E5%BD%B1%E6%95%88%E6%9E%9C\">替 CSS span 區域增加陰影效果</a></li>\\n\\t\\t\\t\\t</ul>\\n\\t\\t</div>\\t\\n\\t\\t<div id=\\'Ads7\\'>\\n\\t\\t\\n\\t\\t<script async src=\"//pagead2.googlesyndication.com/pagead/js/adsbygoogle.js\"></script>\\n\\t\\t<!-- Wibibi_回應式_3 -->\\n\\t\\t<ins class=\"adsbygoogle\"\\n\\t\\t\\t style=\"display:block\"\\n\\t\\t\\t data-ad-client=\"ca-pub-5633897948803345\"\\n\\t\\t\\t data-ad-slot=\"8837384872\"\\n\\t\\t\\t data-ad-format=\"auto\"></ins>\\n\\t\\t<script>\\n\\t\\t(adsbygoogle = window.adsbygoogle || []).push({});\\n\\t\\t</script>\\t\\t\\n\\t\\t\\n\\t\\t</div>\\n\\t\\t<div id=\"Ads8\">\\n\\t\\t\\n\\t\\t<script async src=\"//pagead2.googlesyndication.com/pagead/js/adsbygoogle.js\"></script>\\n\\t\\t<!-- Wibibi_回應式連結_2 -->\\n\\t\\t<ins class=\"adsbygoogle\"\\n\\t\\t\\t style=\"display:block\"\\n\\t\\t\\t data-ad-client=\"ca-pub-5633897948803345\"\\n\\t\\t\\t data-ad-slot=\"6959338178\"\\n\\t\\t\\t data-ad-format=\"link\"></ins>\\n\\t\\t<script>\\n\\t\\t(adsbygoogle = window.adsbygoogle || []).push({});\\n\\t\\t</script>\\t\\t\\n\\t\\t\\n\\t\\t</div>\\n\\t\\t\\t\\n\\t</div>\\n\\t<div style=\"clear:both;\"></div>\\n</div>\\n<div id=\\'FooterBox\\'>\\n\\t<div id=\\'FooterDiscript\\'>© Copyright <a href=\\'/\\'>wibibi.com</a> 網頁設計教學百科 基礎的網頁設計規劃、資料庫與程式設計 Since 2012</div>\\n</div>\\n\\n<!--導入JQuery與滑動選單 Start-->\\n<script src=\"https://ajax.googleapis.com/ajax/libs/jquery/1.9.1/jquery.min.js\"></script>\\n<script type=\"text/javascript\">\\n$(document).ready(function() {\\n    $(\"#toggle\").click(function() {\\n        $(this).toggleClass(\"active\");\\n        $(\"#Menu\").slideToggle();\\n    });\\n\\n});\\n</script>\\n<!--導入JQuery與滑動選單 End-->\\n\\n<script type=\"text/javascript\">\\n<!--\\nfunction SetCwinHeight1() {\\n    var iframeid = document.getElementById(\"mainframe1\"); //iframe id  \\n    if (document.getElementById) {\\n        if (iframeid && !window.opera) {\\n            if (iframeid.contentDocument && iframeid.contentDocument.body.offsetHeight) {\\n                iframeid.height = iframeid.contentDocument.body.offsetHeight;\\n            } else if (iframeid.Document && iframeid.Document.body.scrollHeight) {\\n                iframeid.height = iframeid.Document.body.scrollHeight;\\n            }\\n        }\\n    }\\n}\\nfunction SetCwinHeight2() {\\n    var iframeid = document.getElementById(\"mainframe2\"); //iframe id  \\n    if (document.getElementById) {\\n        if (iframeid && !window.opera) {\\n            if (iframeid.contentDocument && iframeid.contentDocument.body.offsetHeight) {\\n                iframeid.height = iframeid.contentDocument.body.offsetHeight;\\n            } else if (iframeid.Document && iframeid.Document.body.scrollHeight) {\\n                iframeid.height = iframeid.Document.body.scrollHeight;\\n            }\\n        }\\n    }\\n}\\n-->\\n</script>\\n\\n</body>\\n</html>\\n'"
      ]
     },
     "execution_count": 5,
     "metadata": {},
     "output_type": "execute_result"
    }
   ],
   "source": [
    "res.text"
   ]
  },
  {
   "cell_type": "markdown",
   "metadata": {},
   "source": [
    "### 轉碼"
   ]
  },
  {
   "cell_type": "code",
   "execution_count": 9,
   "metadata": {},
   "outputs": [
    {
     "data": {
      "text/plain": [
       "'<!DOCTYPE HTML PUBLIC \"-//W3C//DTD HTML 4.01 Transitional//EN\"\\n\"http://www.w3.org/TR/html4/loose.dtd\">\\n<html>\\n<head>\\n<title>HTML Table 表格 - Wibibi</title>\\n<meta http-equiv=\"Content-Type\" content=\"text/html; charset=utf-8\">\\n<meta name=\"description\" content=\"HTML 網頁設計不可或缺的元素就是表格（Table），通常表格用來做版面的排版，而表格的用法包含了幾個重要的標籤，分別是 table、tr 與 td 這幾個重點，組合起來才是\">\\n<meta name=\"keywords\" content=\"HTML,Table,表格\">\\n<meta name=\"viewport\" content=\"width=device-width, initial-scale=1.0\">\\n<meta name=\"robots\" content=\"max-image-preview:large\">\\n<link href=\"css/main.css\" rel=\"stylesheet\" type=\"text/css\" media=\"(min-width:641px)\" />\\n<link href=\"css/main_small.css\" rel=\"stylesheet\" type=\"text/css\" media=\"(max-width:640px)\" />\\n<link href=\"css/info.css\" rel=\"stylesheet\" type=\"text/css\" media=\"(min-width:641px)\" />\\n<link href=\"css/info_small.css\" rel=\"stylesheet\" type=\"text/css\" media=\"(max-width:640px)\" />\\n<link rel=\"shortcut icon\" href=\"favicon.ico\" >\\n</head>\\n<body>\\n<div id=\"TopDiv\">\\n\\t<div id=\\'HeaderBox\\'>\\n\\t\\t<div id=\\'SiteLogo\\'><a href=\\'/\\'><img src=\\'images/logo.png\\' border=\\'0\\'></a></div>\\n\\t\\t<div id=\"toggle\"><img src=\"images/ControlMenuIcon.png\"></div>\\n\\t\\t<div id=\"SearchBox\">\\n\\n\\t\\t</div>\\n\\t\\t<div style=\"clear:both;\"></div>\\n\\t</div>\\n</div>\\n<div id=\\'Menu\\'>\\n\\t<ul>\\n\\t<li><a href=\\'/\\'>首頁</a></li>\\n\\t\\t<li><a href=\\'c.php?cid=9\\'>HTML</a></li>\\n\\t\\t<li><a href=\\'c.php?cid=20\\'>HTML5</a></li>\\n\\t\\t<li><a href=\\'c.php?cid=5\\'>PHP</a></li>\\n\\t\\t<li><a href=\\'c.php?cid=19\\'>MySQL</a></li>\\n\\t\\t<li><a href=\\'c.php?cid=7\\'>CSS</a></li>\\n\\t\\t<li><a href=\\'c.php?cid=21\\'>CSS3</a></li>\\n\\t\\t<li><a href=\\'c.php?cid=10\\'>JavaScript</a></li>\\n\\t\\t<li><a href=\\'c.php?cid=18\\'>軟體介紹</a></li>\\n\\t\\t<li><a href=\\'c.php?cid=14\\'>其它</a></li>\\n\\t\\t<div style=\\'clear:both;\\'></div>\\n\\t</ul>\\n</div><div id=\\'navi\\'>\\n\\t<div id=\"navi_link\">\\t\\n\\t\\t<a href=\\'/\\'>Home</a> &nbsp;›&nbsp; <a href=\\'c.php?cid=9\\'>HTML</a> &nbsp;›&nbsp; HTML Table 表格\\n\\t</div>\\n</div>\\n<div id=\"container\">\\n\\t<div id=\\'MainShow\\'>\\n\\t\\t<h1>HTML Table 表格</h1>\\n\\t\\t<!--原生_文章內置_1 Start-->\\n\\t\\t<div id=\"Ads1\">\\n\\t\\t\\t\\t\\n\\t\\t<script async src=\"//pagead2.googlesyndication.com/pagead/js/adsbygoogle.js\"></script>\\n\\t\\t<ins class=\"adsbygoogle\"\\n\\t\\t\\t style=\"display:block; text-align:center;\"\\n\\t\\t\\t data-ad-format=\"fluid\"\\n\\t\\t\\t data-ad-layout=\"in-article\"\\n\\t\\t\\t data-ad-client=\"ca-pub-5633897948803345\"\\n\\t\\t\\t data-ad-slot=\"1174116920\"></ins>\\n\\t\\t<script>\\n\\t\\t\\t (adsbygoogle = window.adsbygoogle || []).push({});\\n\\t\\t</script>\\n\\t\\t\\n\\t\\t\\t\\t</div>\\n\\t\\t<!--原生_文章內置_1 End-->\\n\\t\\t<div id=\\'content\\'>HTML 網頁設計不可或缺的元素就是表格（Table），通常表格用來做版面的排版，而表格的用法包含了幾個重要的標籤，分別是 table、tr 與 td 這幾個重點，組合起來才是個完整的表格，以下做個簡單的表格範例。<div id=\"CodeBox\">&lt;table border=\"1\"&gt;<br>\\u3000&lt;tr&gt;<br>\\u3000&lt;td&gt;這裡可以放表格內容&lt;/td&gt;<br>\\u3000&lt;/tr&gt;<br>&lt;/table&gt;<br></div>呈現結果如下<br><table border=\"1\"><tbody><tr><td>這裡可以放表格內容</td></tr></tbody></table><br>範例中使用了&lt;table&gt; 與 &lt;/table&gt; 的標籤把內容包起來，&lt;tr&gt;&lt;/tr&gt; 標籤代表的是一行，而 &lt;td&gt;&lt;/td&gt; 標籤則代表一列，為了清楚呈現，我們還為 table 加上了 border=\"1\" 的設定，這代表這個 table 的邊框粗細是 1，在實際使用上你也可以設定為其它的値，例如 border=\"0\" 則不會顯示邊框。請注意 HTML 語法都必須用一個開始標籤與一個結束標籤把內容包起來，開始標籤與結束標籤是對等的，缺一不可。<br><br>除了可以寫一個單純的表格之外，我們還可以設定 table 的寬度、高度或邊框樣式，要做這些設定，你必須先了解幾個能夠控制表格的元素，例如 width、border、background ... 等。<br><ul><li>width：控制 table 的寬度</li><li>border：控制 table 邊框的粗細</li><li>background：控制背景圖片</li><li>colspan：控制儲存格橫跨幾個欄位</li><li>rowspan：控制儲存格垂直跨幾個欄位<br></li></ul>接著我們寫幾個範例<br><br>兩個欄位的 table 表格範例<br><div id=\"CodeBox\">&lt;table width=\"300\" border=\"1\"&gt;<br>\\u3000&lt;tr&gt;<br>\\u3000&lt;td&gt;這裡是第一個欄位&lt;/td&gt;<br>\\u3000&lt;td&gt;這裡是第二個欄位&lt;/td&gt;<br>\\u3000&lt;/tr&gt;<br>&lt;/table&gt;<br></div>呈現結果如下<br><table width=\"300\" border=\"1\"><tbody><tr><td>這裡是第一個欄位</td><td>這裡是第二個欄位</td></tr></tbody></table><br><br>兩行兩欄位的 Table 表格範例<div id=\"CodeBox\">&lt;table border=\"1\"&gt;<br>\\u3000&lt;tr&gt;<br>\\u3000&lt;td&gt;這裡是第一行的第一個欄位&lt;/td&gt;<br>\\u3000&lt;td&gt;這裡是第一行的第二個欄位&lt;/td&gt;<br>\\u3000&lt;/tr&gt;<br>\\u3000&lt;tr&gt;<br>\\u3000&lt;td&gt;這裡是第二行的第一個欄位&lt;/td&gt;<br>\\u3000&lt;td&gt;這裡是第二行的第二個欄位&lt;/td&gt;<br>\\u3000&lt;/tr&gt;<br>&lt;/table&gt;<br></div>呈現結果如下<br><table border=\"1\"><tbody><tr><td>這裡是第一行的第一個欄位</td><td>這裡是第一行的第二個欄位</td></tr><tr><td>這裡是第二行的第一個欄位</td><td>這裡是第二行的第二個欄位</td></tr></tbody></table><br>接著我們把第一行變成一個欄位<div id=\"CodeBox\">&lt;table border=\"1\"&gt;<br>\\u3000&lt;tr&gt;<br>\\u3000&lt;td colspan=\"2\"&gt;這裡是第一行&lt;/td&gt;<br>\\u3000&lt;/tr&gt;<br>\\u3000&lt;tr&gt;<br>\\u3000&lt;td&gt;這裡是第二行的第一個欄位&lt;/td&gt;<br>\\u3000&lt;td&gt;這裡是第二行的第二個欄位&lt;/td&gt;<br>\\u3000&lt;/tr&gt;<br>&lt;/table&gt;<br></div>呈現結果如下<br><table border=\"1\"><tbody><tr><td colspan=\"2\">這裡是第一行</td></tr><tr><td>這裡是第二行的第一個欄位</td><td>這裡是第二行的第二個欄位</td></tr></tbody></table><br>最後做一個兩欄位的 Table，第一個欄位 rowspan=\"2\"，第二個欄位有兩行<div id=\"CodeBox\">&lt;table border=\"1\"&gt;<br>\\u3000&lt;tr&gt;<br>\\u3000&lt;td rowspan=\"2\"&gt;這是第一個欄位&lt;/td&gt;<br>\\u3000&lt;td&gt;這裡是第二個欄位第一行&lt;/td&gt;<br>\\u3000&lt;/tr&gt;<br>\\u3000&lt;tr&gt;<br>\\u3000&lt;td&gt;這裡是第二個欄位第二行&lt;/td&gt;<br>\\u3000&lt;/tr&gt;<br>&lt;/table&gt;</div>呈現結果<table border=\"1\"><tr><td rowspan=\"2\">這是第一個欄位</td><td>這裡是第二個欄位第一行</td></tr><tr><td>這裡是第二個欄位第二行</td></tr></table><br><br><b>延伸閱讀</b><ul><li><a href=\"info.php?tid=148\">HTML 水平置中與垂直置中</a></li><li><a href=\"info.php?tid=439\" title=\"HTML Table 表格文字顏色\">HTML Table 表格文字顏色</a></li><li><a href=\"info.php?tid=440\" title=\"HTML Table 表格的文字大小與字型\">HTML Table 表格的文字大小與字型</a></li><li><a href=\"info.php?tid=128\">HTML 背景顏色 bgcolor 與背景圖片 background 設定</a></li><li><a href=\"info.php?tid=86\" title=\"CSS border 邊框\">CSS border 邊框</a></li><li><a href=\"info.php?tid=441\" title=\"HTML Table 表格邊框顏色與樣式設計\">HTML Table 表格邊框顏色與樣式設計</a></li><li><a href=\"info.php?tid=442\" title=\"HTML Table 表格背景顏色\">HTML Table 表格背景顏色</a></li><li><a href=\"info.php?tid=HTML_Table_cellpadding_%E5%B1%AC%E6%80%A7\" title=\"HTML Table cellpadding 屬性\">HTML Table cellpadding 屬性</a></li></ul></div>\\n\\t\\t\\t\\t\\n\\t\\t<div id=\"Ads2\">\\n\\t\\t<!--原生_文章內置_2 Start-->\\n\\t\\t\\n\\t\\t<script async src=\"//pagead2.googlesyndication.com/pagead/js/adsbygoogle.js\"></script>\\n\\t\\t<ins class=\"adsbygoogle\"\\n\\t\\t\\t style=\"display:block; text-align:center;\"\\n\\t\\t\\t data-ad-format=\"fluid\"\\n\\t\\t\\t data-ad-layout=\"in-article\"\\n\\t\\t\\t data-ad-client=\"ca-pub-5633897948803345\"\\n\\t\\t\\t data-ad-slot=\"8935776588\"></ins>\\n\\t\\t<script>\\n\\t\\t\\t (adsbygoogle = window.adsbygoogle || []).push({});\\n\\t\\t</script>\\n\\t\\t\\n\\t\\t<!--原生_文章內置_2 End-->\\n\\t\\t</div>\\t\\t\\n\\t\\t\\t\\t\\t\\t<div id=\"SuggestTopic\">\\n\\t\\t<p>您可能會想看</p>\\n\\t\\t<ul>\\n\\t\\t\\t\\t<li><a href=\"info.php?tid=HTML_div_%E6%A8%99%E7%B1%A4\">HTML div 標籤</a></li>\\n\\t\\t\\t\\t<li><a href=\"info.php?tid=%E8%A8%AD%E8%A8%88_HTML_%E5%9C%96%E7%89%87%E8%88%87%E5%9C%96%E7%89%87%E9%82%8A%E6%A1%86%E9%96%93%E7%9A%84%E8%B7%9D%E9%9B%A2\">設計 HTML 圖片與圖片邊框間的距離</a></li>\\n\\t\\t\\t\\t<li><a href=\"info.php?tid=DIV_%E5%8D%80%E5%A1%8A%E5%85%A7%E6%96%87%E5%AD%97%E8%88%87%E9%82%8A%E6%A1%86%E7%9A%84%E8%B7%9D%E9%9B%A2%E8%AA%BF%E6%95%B4\">DIV 區塊內文字與邊框的距離調整</a></li>\\n\\t\\t\\t\\t<li><a href=\"info.php?tid=HTML_TABLE_%E8%A1%A8%E6%A0%BC%E5%85%A7%E7%9A%84%E6%96%87%E5%AD%97%E8%A1%8C%E9%AB%98\">HTML TABLE 表格內的文字行高</a></li>\\n\\t\\t\\t\\t<li><a href=\"info.php?tid=DIV_%E5%8D%80%E5%A1%8A%E5%85%A7%E7%9A%84%E6%96%87%E5%AD%97%E8%A1%8C%E9%AB%98%E8%A8%AD%E8%A8%88\">DIV 區塊內的文字行高設計</a></li>\\n\\t\\t\\t\\t<li><a href=\"info.php?tid=%E6%9B%BF_HTML_button_%E6%8C%89%E9%88%95%E5%A2%9E%E5%8A%A0%E8%83%8C%E6%99%AF%E5%9C%96%E7%89%87\">替 HTML button 按鈕增加背景圖片</a></li>\\n\\t\\t\\t\\t<li><a href=\"info.php?tid=HTML_img_title_%E8%88%87_img_alt_%E7%9A%84%E5%B7%AE%E5%88%A5\">HTML img title 與 img alt 的差別</a></li>\\n\\t\\t\\t\\t<li><a href=\"info.php?tid=%E7%94%A8_CSS_%E8%A8%AD%E8%A8%88_HTML_%E8%A1%A8%E6%A0%BC%E6%AC%84%E4%BD%8D%E5%85%A7%E6%96%87%E5%AD%97%E9%9D%A0%E4%B8%8B%E5%B0%8D%E9%BD%8A\">用 CSS 設計 HTML 表格欄位內文字靠下對齊</a></li>\\n\\t\\t\\t\\t<li><a href=\"info.php?tid=%E7%94%A8_CSS_%E8%A8%AD%E8%A8%88_HTML_%E8%A1%A8%E6%A0%BC%E6%AC%84%E4%BD%8D%E5%85%A7%E6%96%87%E5%AD%97%E9%9D%A0%E4%B8%8A%E5%B0%8D%E9%BD%8A\">用 CSS 設計 HTML 表格欄位內文字靠上對齊</a></li>\\n\\t\\t\\t\\t<li><a href=\"info.php?tid=HTML_Table_colspan_%E5%B1%AC%E6%80%A7\">HTML Table colspan 屬性</a></li>\\n\\t\\t\\t\\t</ul>\\n\\t\\t</div>\\n\\t\\t\\t\\t<!--相符內容 Start-->\\n\\t\\t<div id=\"Ads4\">\\n\\t\\t\\n\\t\\t<script async src=\"//pagead2.googlesyndication.com/pagead/js/adsbygoogle.js\"></script>\\n\\t\\t<ins class=\"adsbygoogle\"\\n\\t\\t\\t style=\"display:block\"\\n\\t\\t\\t data-ad-format=\"autorelaxed\"\\n\\t\\t\\t data-ad-client=\"ca-pub-5633897948803345\"\\n\\t\\t\\t data-ad-slot=\"6965838540\"></ins>\\n\\t\\t<script>\\n\\t\\t\\t (adsbygoogle = window.adsbygoogle || []).push({});\\n\\t\\t</script>\\t\\t\\n\\t\\t\\n\\t\\t</div>\\n\\t\\t<!--相符內容 End-->\\n\\t\\t\\t</div>\\n\\t<div id=\\'sidebar_right\\'>\\n\\t\\t<div id=\"sidebar_aff\"><iframe src=\"sidebar_aff.php?sec=1\" name=\"mainframe1\" id=\"mainframe1\" marginwidth=\"0\" marginheight=\"0\" scrolling=\"No\" frameborder=\"0\" onload=\"Javascript:SetCwinHeight1()\"></iframe></div>\\n\\t\\t\\t\\t<div id=\"Ads5\">\\n\\t\\t\\t\\n\\t\\t<script async src=\"//pagead2.googlesyndication.com/pagead/js/adsbygoogle.js\"></script>\\n\\t\\t<!-- Wibibi_回應式_1 -->\\n\\t\\t<ins class=\"adsbygoogle\"\\n\\t\\t\\t style=\"display:block\"\\n\\t\\t\\t data-ad-client=\"ca-pub-5633897948803345\"\\n\\t\\t\\t data-ad-slot=\"7789038844\"\\n\\t\\t\\t data-ad-format=\"auto\"></ins>\\n\\t\\t<script>\\n\\t\\t(adsbygoogle = window.adsbygoogle || []).push({});\\n\\t\\t</script>\\t\\t\\n\\t\\t\\n\\t\\t</div>\\n\\t\\t<div id=\"ToDayHotList\">\\n\\t\\t<p>今日熱門文章</p>\\n\\t\\t<ul>\\n\\t\\t\\t\\t<li><a href=\"info.php?tid=MySQLSELECTWHEREdate%E7%AD%89%E6%96%BC%E4%B8%8A%E5%80%8B%E6%9C%88%E7%9A%84%E6%A2%9D%E4%BB%B6%E5%88%A4%E6%96%B7%E5%AF%AB%E6%B3%95\">MySQL SELECT WHERE date 等於上個月的條件判斷寫法</a></li>\\n\\t\\t\\t\\t<li><a href=\"info.php?tid=MySQLSELECTWHEREdate%E7%AD%89%E6%96%BC%E6%9C%AC%E6%9C%88%E7%9A%84%E6%A2%9D%E4%BB%B6%E5%88%A4%E6%96%B7%E5%AF%AB%E6%B3%95\">MySQL SELECT WHERE date 等於本月的條件判斷寫法</a></li>\\n\\t\\t\\t\\t<li><a href=\"info.php?tid=MySQLSELECTWHEREdate%E7%AD%89%E6%96%BC%E6%98%A8%E5%A4%A9%E7%9A%84%E6%A2%9D%E4%BB%B6%E5%88%A4%E6%96%B7%E5%AF%AB%E6%B3%95\">MySQL SELECT WHERE date 等於昨天的條件判斷寫法</a></li>\\n\\t\\t\\t\\t<li><a href=\"info.php?tid=PHPmysqli_set_charset%E5%87%BD%E5%BC%8F%E8%A8%AD%E5%AE%9A%E5%AD%97%E7%AC%A6%E7%B7%A8%E7%A2%BC\">PHP mysqli_set_charset 函式設定字符編碼</a></li>\\n\\t\\t\\t\\t<li><a href=\"info.php?tid=PHPmysqli_connect%E8%B3%87%E6%96%99%E5%BA%AB%E9%80%A3%E7%B7%9A%E5%87%BD%E5%BC%8F\">PHP: mysqli_connect 資料庫連線函式</a></li>\\n\\t\\t\\t\\t<li><a href=\"info.php?tid=MySQLSELECT%E5%88%A4%E6%96%B7%E4%BB%8A%E5%A4%A9%E4%B9%8B%E5%89%8D%E6%88%96%E6%9F%90%E5%A4%A9%E4%B9%8B%E5%89%8D%E7%9A%84%E6%97%A5%E6%9C%9F%E6%A2%9D%E4%BB%B6%E5%88%A4%E6%96%B7%E5%AF%AB%E6%B3%95\">MySQL SELECT 判斷今天之前或某天之前的日期條件判斷寫法</a></li>\\n\\t\\t\\t\\t<li><a href=\"info.php?tid=MySQLSELECTWHEREdate%E7%AD%89%E6%96%BC%E4%BB%8A%E5%A4%A9%E7%9A%84%E6%A2%9D%E4%BB%B6%E5%88%A4%E6%96%B7%E5%AF%AB%E6%B3%95\">MySQL SELECT WHERE date 等於今天的條件判斷寫法</a></li>\\n\\t\\t\\t\\t<li><a href=\"info.php?tid=HTML_div_%E6%A8%99%E7%B1%A4\">HTML div 標籤</a></li>\\n\\t\\t\\t\\t<li><a href=\"info.php?tid=CSS_Attribute_Selectors_%E5%B1%AC%E6%80%A7%E9%81%B8%E6%93%87%E5%99%A8\">CSS Attribute Selectors 屬性選擇器</a></li>\\n\\t\\t\\t\\t<li><a href=\"info.php?tid=%E6%9B%BF_CSS_span_%E5%8D%80%E5%9F%9F%E5%A2%9E%E5%8A%A0%E9%99%B0%E5%BD%B1%E6%95%88%E6%9E%9C\">替 CSS span 區域增加陰影效果</a></li>\\n\\t\\t\\t\\t</ul>\\n\\t\\t</div>\\t\\t\\t\\n\\t\\t<div id=\\'Ads6\\'>\\n\\t\\t\\n\\t\\t<script async src=\"//pagead2.googlesyndication.com/pagead/js/adsbygoogle.js\"></script>\\n\\t\\t<!-- Wibibi_回應式_2 -->\\n\\t\\t<ins class=\"adsbygoogle\"\\n\\t\\t\\t style=\"display:block\"\\n\\t\\t\\t data-ad-client=\"ca-pub-5633897948803345\"\\n\\t\\t\\t data-ad-slot=\"7844879168\"\\n\\t\\t\\t data-ad-format=\"auto\"></ins>\\n\\t\\t<script>\\n\\t\\t(adsbygoogle = window.adsbygoogle || []).push({});\\n\\t\\t</script>\\t\\n\\t\\t\\n\\t\\t</div>\\n\\t\\t<div id=\"NowHotTopicList\">\\n\\t\\t<p>即時熱門文章</p>\\n\\t\\t<ul>\\n\\t\\t\\t\\t<li><a href=\"info.php?tid=MySQLSELECTWHEREdate%E7%AD%89%E6%96%BC%E4%B8%8A%E5%80%8B%E6%9C%88%E7%9A%84%E6%A2%9D%E4%BB%B6%E5%88%A4%E6%96%B7%E5%AF%AB%E6%B3%95\">MySQL SELECT WHERE date 等於上個月的條件判斷寫法</a></li>\\n\\t\\t\\t\\t<li><a href=\"info.php?tid=MySQLSELECTWHEREdate%E7%AD%89%E6%96%BC%E6%9C%AC%E6%9C%88%E7%9A%84%E6%A2%9D%E4%BB%B6%E5%88%A4%E6%96%B7%E5%AF%AB%E6%B3%95\">MySQL SELECT WHERE date 等於本月的條件判斷寫法</a></li>\\n\\t\\t\\t\\t<li><a href=\"info.php?tid=MySQLSELECTWHEREdate%E7%AD%89%E6%96%BC%E6%98%A8%E5%A4%A9%E7%9A%84%E6%A2%9D%E4%BB%B6%E5%88%A4%E6%96%B7%E5%AF%AB%E6%B3%95\">MySQL SELECT WHERE date 等於昨天的條件判斷寫法</a></li>\\n\\t\\t\\t\\t<li><a href=\"info.php?tid=PHPmysqli_set_charset%E5%87%BD%E5%BC%8F%E8%A8%AD%E5%AE%9A%E5%AD%97%E7%AC%A6%E7%B7%A8%E7%A2%BC\">PHP mysqli_set_charset 函式設定字符編碼</a></li>\\n\\t\\t\\t\\t<li><a href=\"info.php?tid=PHPmysqli_connect%E8%B3%87%E6%96%99%E5%BA%AB%E9%80%A3%E7%B7%9A%E5%87%BD%E5%BC%8F\">PHP: mysqli_connect 資料庫連線函式</a></li>\\n\\t\\t\\t\\t<li><a href=\"info.php?tid=MySQLSELECT%E5%88%A4%E6%96%B7%E4%BB%8A%E5%A4%A9%E4%B9%8B%E5%89%8D%E6%88%96%E6%9F%90%E5%A4%A9%E4%B9%8B%E5%89%8D%E7%9A%84%E6%97%A5%E6%9C%9F%E6%A2%9D%E4%BB%B6%E5%88%A4%E6%96%B7%E5%AF%AB%E6%B3%95\">MySQL SELECT 判斷今天之前或某天之前的日期條件判斷寫法</a></li>\\n\\t\\t\\t\\t<li><a href=\"info.php?tid=MySQLSELECTWHEREdate%E7%AD%89%E6%96%BC%E4%BB%8A%E5%A4%A9%E7%9A%84%E6%A2%9D%E4%BB%B6%E5%88%A4%E6%96%B7%E5%AF%AB%E6%B3%95\">MySQL SELECT WHERE date 等於今天的條件判斷寫法</a></li>\\n\\t\\t\\t\\t<li><a href=\"info.php?tid=HTML_div_%E6%A8%99%E7%B1%A4\">HTML div 標籤</a></li>\\n\\t\\t\\t\\t<li><a href=\"info.php?tid=CSS_Attribute_Selectors_%E5%B1%AC%E6%80%A7%E9%81%B8%E6%93%87%E5%99%A8\">CSS Attribute Selectors 屬性選擇器</a></li>\\n\\t\\t\\t\\t<li><a href=\"info.php?tid=%E6%9B%BF_CSS_span_%E5%8D%80%E5%9F%9F%E5%A2%9E%E5%8A%A0%E9%99%B0%E5%BD%B1%E6%95%88%E6%9E%9C\">替 CSS span 區域增加陰影效果</a></li>\\n\\t\\t\\t\\t</ul>\\n\\t\\t</div>\\t\\n\\t\\t<div id=\\'Ads7\\'>\\n\\t\\t\\n\\t\\t<script async src=\"//pagead2.googlesyndication.com/pagead/js/adsbygoogle.js\"></script>\\n\\t\\t<!-- Wibibi_回應式_3 -->\\n\\t\\t<ins class=\"adsbygoogle\"\\n\\t\\t\\t style=\"display:block\"\\n\\t\\t\\t data-ad-client=\"ca-pub-5633897948803345\"\\n\\t\\t\\t data-ad-slot=\"8837384872\"\\n\\t\\t\\t data-ad-format=\"auto\"></ins>\\n\\t\\t<script>\\n\\t\\t(adsbygoogle = window.adsbygoogle || []).push({});\\n\\t\\t</script>\\t\\t\\n\\t\\t\\n\\t\\t</div>\\n\\t\\t<div id=\"Ads8\">\\n\\t\\t\\n\\t\\t<script async src=\"//pagead2.googlesyndication.com/pagead/js/adsbygoogle.js\"></script>\\n\\t\\t<!-- Wibibi_回應式連結_2 -->\\n\\t\\t<ins class=\"adsbygoogle\"\\n\\t\\t\\t style=\"display:block\"\\n\\t\\t\\t data-ad-client=\"ca-pub-5633897948803345\"\\n\\t\\t\\t data-ad-slot=\"6959338178\"\\n\\t\\t\\t data-ad-format=\"link\"></ins>\\n\\t\\t<script>\\n\\t\\t(adsbygoogle = window.adsbygoogle || []).push({});\\n\\t\\t</script>\\t\\t\\n\\t\\t\\n\\t\\t</div>\\n\\t\\t\\t\\n\\t</div>\\n\\t<div style=\"clear:both;\"></div>\\n</div>\\n<div id=\\'FooterBox\\'>\\n\\t<div id=\\'FooterDiscript\\'>© Copyright <a href=\\'/\\'>wibibi.com</a> 網頁設計教學百科 基礎的網頁設計規劃、資料庫與程式設計 Since 2012</div>\\n</div>\\n\\n<!--導入JQuery與滑動選單 Start-->\\n<script src=\"https://ajax.googleapis.com/ajax/libs/jquery/1.9.1/jquery.min.js\"></script>\\n<script type=\"text/javascript\">\\n$(document).ready(function() {\\n    $(\"#toggle\").click(function() {\\n        $(this).toggleClass(\"active\");\\n        $(\"#Menu\").slideToggle();\\n    });\\n\\n});\\n</script>\\n<!--導入JQuery與滑動選單 End-->\\n\\n<script type=\"text/javascript\">\\n<!--\\nfunction SetCwinHeight1() {\\n    var iframeid = document.getElementById(\"mainframe1\"); //iframe id  \\n    if (document.getElementById) {\\n        if (iframeid && !window.opera) {\\n            if (iframeid.contentDocument && iframeid.contentDocument.body.offsetHeight) {\\n                iframeid.height = iframeid.contentDocument.body.offsetHeight;\\n            } else if (iframeid.Document && iframeid.Document.body.scrollHeight) {\\n                iframeid.height = iframeid.Document.body.scrollHeight;\\n            }\\n        }\\n    }\\n}\\nfunction SetCwinHeight2() {\\n    var iframeid = document.getElementById(\"mainframe2\"); //iframe id  \\n    if (document.getElementById) {\\n        if (iframeid && !window.opera) {\\n            if (iframeid.contentDocument && iframeid.contentDocument.body.offsetHeight) {\\n                iframeid.height = iframeid.contentDocument.body.offsetHeight;\\n            } else if (iframeid.Document && iframeid.Document.body.scrollHeight) {\\n                iframeid.height = iframeid.Document.body.scrollHeight;\\n            }\\n        }\\n    }\\n}\\n-->\\n</script>\\n\\n</body>\\n</html>\\n'"
      ]
     },
     "execution_count": 9,
     "metadata": {},
     "output_type": "execute_result"
    }
   ],
   "source": [
    "res.encoding = 'utf-8' # 'big5'\n",
    "res.text"
   ]
  },
  {
   "cell_type": "markdown",
   "metadata": {},
   "source": [
    "### 轉成DataFrame\n",
    "\n",
    "接下來的步驟，我們要將文字檔中的table轉成DataFrame，主要可以分成兩個步驟：\n",
    "* 存成 html 檔\n",
    "* 用 pandas 讀取 html 檔"
   ]
  },
  {
   "cell_type": "code",
   "execution_count": 12,
   "metadata": {},
   "outputs": [],
   "source": [
    "# 存檔\n",
    "\n",
    "f = open('test.html', 'w', encoding='utf-8')\n",
    "f.write(res.text)\n",
    "f.close()"
   ]
  },
  {
   "cell_type": "code",
   "execution_count": 14,
   "metadata": {},
   "outputs": [],
   "source": [
    "# 讀檔並轉成DataFrame\n",
    "\n",
    "import pandas as pd\n",
    "dfs = pd.read_html('test.html')"
   ]
  },
  {
   "cell_type": "code",
   "execution_count": 15,
   "metadata": {},
   "outputs": [
    {
     "data": {
      "text/html": [
       "<div>\n",
       "<style scoped>\n",
       "    .dataframe tbody tr th:only-of-type {\n",
       "        vertical-align: middle;\n",
       "    }\n",
       "\n",
       "    .dataframe tbody tr th {\n",
       "        vertical-align: top;\n",
       "    }\n",
       "\n",
       "    .dataframe thead th {\n",
       "        text-align: right;\n",
       "    }\n",
       "</style>\n",
       "<table border=\"1\" class=\"dataframe\">\n",
       "  <thead>\n",
       "    <tr style=\"text-align: right;\">\n",
       "      <th></th>\n",
       "      <th>0</th>\n",
       "    </tr>\n",
       "  </thead>\n",
       "  <tbody>\n",
       "    <tr>\n",
       "      <th>0</th>\n",
       "      <td>這裡可以放表格內容</td>\n",
       "    </tr>\n",
       "  </tbody>\n",
       "</table>\n",
       "</div>"
      ],
      "text/plain": [
       "           0\n",
       "0  這裡可以放表格內容"
      ]
     },
     "execution_count": 15,
     "metadata": {},
     "output_type": "execute_result"
    }
   ],
   "source": [
    "# 瀏覽\n",
    "dfs[0]"
   ]
  },
  {
   "cell_type": "markdown",
   "metadata": {},
   "source": [
    "### 轉成DataFrame（快速版）\n",
    "\n",
    "其實也可以只寫成一個步驟（但還是建議先存起來）"
   ]
  },
  {
   "cell_type": "code",
   "execution_count": 12,
   "metadata": {},
   "outputs": [
    {
     "data": {
      "text/html": [
       "<div>\n",
       "<style scoped>\n",
       "    .dataframe tbody tr th:only-of-type {\n",
       "        vertical-align: middle;\n",
       "    }\n",
       "\n",
       "    .dataframe tbody tr th {\n",
       "        vertical-align: top;\n",
       "    }\n",
       "\n",
       "    .dataframe thead th {\n",
       "        text-align: right;\n",
       "    }\n",
       "</style>\n",
       "<table border=\"1\" class=\"dataframe\">\n",
       "  <thead>\n",
       "    <tr style=\"text-align: right;\">\n",
       "      <th></th>\n",
       "      <th>0</th>\n",
       "      <th>1</th>\n",
       "    </tr>\n",
       "  </thead>\n",
       "  <tbody>\n",
       "    <tr>\n",
       "      <th>0</th>\n",
       "      <td>這裡是第一行</td>\n",
       "      <td>NaN</td>\n",
       "    </tr>\n",
       "    <tr>\n",
       "      <th>1</th>\n",
       "      <td>這裡是第二行的第一個欄位</td>\n",
       "      <td>這裡是第二行的第二個欄位</td>\n",
       "    </tr>\n",
       "  </tbody>\n",
       "</table>\n",
       "</div>"
      ],
      "text/plain": [
       "              0             1\n",
       "0        這裡是第一行           NaN\n",
       "1  這裡是第二行的第一個欄位  這裡是第二行的第二個欄位"
      ]
     },
     "execution_count": 12,
     "metadata": {},
     "output_type": "execute_result"
    }
   ],
   "source": [
    "# 不存檔直接轉成DataFrame\n",
    "from io import StringIO\n",
    "\n",
    "dfs = pd.read_html(StringIO(res.text))\n",
    "dfs[3]"
   ]
  }
 ],
 "metadata": {
  "kernelspec": {
   "display_name": "Python 3 (ipykernel)",
   "language": "python",
   "name": "python3"
  },
  "language_info": {
   "codemirror_mode": {
    "name": "ipython",
    "version": 3
   },
   "file_extension": ".py",
   "mimetype": "text/x-python",
   "name": "python",
   "nbconvert_exporter": "python",
   "pygments_lexer": "ipython3",
   "version": "3.9.13"
  }
 },
 "nbformat": 4,
 "nbformat_minor": 2
}
