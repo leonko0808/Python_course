{
 "cells": [
  {
   "cell_type": "markdown",
   "metadata": {},
   "source": [
    "# 資優生策略"
   ]
  },
  {
   "cell_type": "code",
   "execution_count": 2,
   "metadata": {},
   "outputs": [],
   "source": [
    "import pandas as pd\n",
    "\n",
    "def toSeasonal(df):\n",
    "    season4 = df[df.index.month == 3]\n",
    "    season1 = df[df.index.month == 5]\n",
    "    season2 = df[df.index.month == 8]\n",
    "    season3 = df[df.index.month == 11]\n",
    "\n",
    "    season1.index = season1.index.year\n",
    "    season2.index = season2.index.year\n",
    "    season3.index = season3.index.year\n",
    "    season4.index = season4.index.year - 1\n",
    "\n",
    "    newseason1 = season1\n",
    "    newseason2 = season2 - season1.reindex_like(season2)\n",
    "    newseason3 = season3 - season2.reindex_like(season3)\n",
    "    newseason4 = season4 - season3.reindex_like(season4)\n",
    "\n",
    "    newseason1.index = pd.to_datetime(newseason1.index.astype(str) + '-05-15')\n",
    "    newseason2.index = pd.to_datetime(newseason2.index.astype(str) + '-08-14')\n",
    "    newseason3.index = pd.to_datetime(newseason3.index.astype(str) + '-11-14')\n",
    "    newseason4.index = pd.to_datetime((newseason4.index + 1).astype(str) + '-03-31')\n",
    "\n",
    "    return newseason1.append(newseason2).append(newseason3).append(newseason4).sort_index()\n",
    "\n",
    "def mystrategy2(data):\n",
    "    \n",
    "    股本 = data.get('股本合計', 1)#.drop_duplicates(['stock_id', 'date'], keep='last')#.pivot(index='date', columns='stock_id')\n",
    "    price = data.get('收盤價', 200)\n",
    "    當天股價 = price[:股本.index[-1]].iloc[-1]\n",
    "    當天股本 = 股本.iloc[-1]\n",
    "    市值 = 當天股本 * 當天股價 / 10 * 1000\n",
    "   \n",
    "\n",
    "    df1 = toSeasonal(data.get('投資活動之淨現金流入（流出）', 5))\n",
    "    df2 = toSeasonal(data.get('營業活動之淨現金流入（流出）', 5))\n",
    "    自由現金流 = (df1 + df2).iloc[-4:].mean()\n",
    "    \n",
    "    \n",
    "    稅後淨利 = data.get('本期淨利（淨損）', 1)\n",
    "    \n",
    "    # 股東權益，有兩個名稱，有些公司叫做權益總計，有些叫做權益總額\n",
    "    # 所以得把它們抓出來\n",
    "    權益總計 = data.get('權益總計', 1)\n",
    "    權益總額 = data.get('權益總額', 1)\n",
    "    \n",
    "    # 並且把它們合併起來\n",
    "    權益總計.fillna(權益總額, inplace=True)\n",
    "        \n",
    "    股東權益報酬率 = 稅後淨利.iloc[-1] / 權益總計.iloc[-1]\n",
    "    \n",
    "    \n",
    "    營業利益 = data.get('營業利益（損失）', 5)\n",
    "    營業利益成長率 = (營業利益.iloc[-1] / 營業利益.iloc[-5] - 1) * 100\n",
    "    \n",
    "    \n",
    "    當月營收 = data.get('當月營收', 4) * 1000\n",
    "    當季營收 = 當月營收.iloc[-4:].sum()\n",
    "    市值營收比 = 市值 / 當季營收\n",
    "    \n",
    "    rsv = (price.iloc[-1] - price.iloc[-150:].min()) / (price.iloc[-150:].max() - price.iloc[-150:].min())\n",
    "    \n",
    "    \n",
    "    condition1 = (市值 < 1e10)\n",
    "    condition2 = 自由現金流 > 0\n",
    "    condition3 = 股東權益報酬率 > 0\n",
    "    condition4 = 營業利益成長率 > 0\n",
    "    condition5 = 市值營收比 < 5\n",
    "    condition6 = rsv > 0.5\n",
    "    \n",
    "    select_stock = condition1 & condition2 & condition3 & condition4 & condition5 & condition6\n",
    "    \n",
    "    return select_stock[select_stock]\n"
   ]
  },
  {
   "cell_type": "code",
   "execution_count": 4,
   "metadata": {},
   "outputs": [
    {
     "name": "stderr",
     "output_type": "stream",
     "text": [
      "/Users/leonko/Desktop/finlab_course/finlab/data.py:52: FutureWarning: The frame.append method is deprecated and will be removed from pandas in a future version. Use pandas.concat instead.\n",
      "  df = (pd.read_sql(s1, self.conn)\n",
      "/Users/leonko/Desktop/finlab_course/finlab/data.py:52: FutureWarning: The frame.append method is deprecated and will be removed from pandas in a future version. Use pandas.concat instead.\n",
      "  df = (pd.read_sql(s1, self.conn)\n",
      "/Users/leonko/Desktop/finlab_course/strategies/new_strategy.py:24: FutureWarning: The frame.append method is deprecated and will be removed from pandas in a future version. Use pandas.concat instead.\n",
      "  return newseason1.append(newseason2).append(newseason3).append(newseason4).sort_index()\n",
      "/Users/leonko/Desktop/finlab_course/strategies/new_strategy.py:24: FutureWarning: The frame.append method is deprecated and will be removed from pandas in a future version. Use pandas.concat instead.\n",
      "  return newseason1.append(newseason2).append(newseason3).append(newseason4).sort_index()\n",
      "/Users/leonko/Desktop/finlab_course/strategies/new_strategy.py:24: FutureWarning: The frame.append method is deprecated and will be removed from pandas in a future version. Use pandas.concat instead.\n",
      "  return newseason1.append(newseason2).append(newseason3).append(newseason4).sort_index()\n",
      "/Users/leonko/Desktop/finlab_course/strategies/new_strategy.py:24: FutureWarning: The frame.append method is deprecated and will be removed from pandas in a future version. Use pandas.concat instead.\n",
      "  return newseason1.append(newseason2).append(newseason3).append(newseason4).sort_index()\n",
      "/Users/leonko/Desktop/finlab_course/strategies/new_strategy.py:24: FutureWarning: The frame.append method is deprecated and will be removed from pandas in a future version. Use pandas.concat instead.\n",
      "  return newseason1.append(newseason2).append(newseason3).append(newseason4).sort_index()\n",
      "/Users/leonko/Desktop/finlab_course/strategies/new_strategy.py:24: FutureWarning: The frame.append method is deprecated and will be removed from pandas in a future version. Use pandas.concat instead.\n",
      "  return newseason1.append(newseason2).append(newseason3).append(newseason4).sort_index()\n"
     ]
    },
    {
     "data": {
      "text/plain": [
       "stock_id\n",
       "1528    True\n",
       "1720    True\n",
       "1752    True\n",
       "1810    True\n",
       "1817    True\n",
       "2321    True\n",
       "2349    True\n",
       "2423    True\n",
       "2425    True\n",
       "2467    True\n",
       "2468    True\n",
       "2472    True\n",
       "2480    True\n",
       "2482    True\n",
       "2493    True\n",
       "2496    True\n",
       "2543    True\n",
       "2753    True\n",
       "3038    True\n",
       "3048    True\n",
       "3051    True\n",
       "4439    True\n",
       "4545    True\n",
       "4552    True\n",
       "4557    True\n",
       "4763    True\n",
       "4960    True\n",
       "5225    True\n",
       "5258    True\n",
       "5283    True\n",
       "5284    True\n",
       "6112    True\n",
       "6128    True\n",
       "6139    True\n",
       "6197    True\n",
       "8070    True\n",
       "8103    True\n",
       "8473    True\n",
       "9924    True\n",
       "dtype: bool"
      ]
     },
     "execution_count": 4,
     "metadata": {},
     "output_type": "execute_result"
    }
   ],
   "source": [
    "from strategies.new_strategy import strategy\n",
    "from finlab.data import Data\n",
    "data = Data()\n",
    "strategy(data)"
   ]
  },
  {
   "cell_type": "markdown",
   "metadata": {},
   "source": [
    "# 檢查報酬率"
   ]
  },
  {
   "cell_type": "code",
   "execution_count": 49,
   "metadata": {},
   "outputs": [
    {
     "name": "stdout",
     "output_type": "stream",
     "text": [
      "2018-03-01 - 2018-04-30 報酬率: 0.96 % nstock 37\n",
      "每次換手最大報酬 : 0.96 ％\n",
      "每次換手最少報酬 : 0.96 ％\n"
     ]
    },
    {
     "data": {
      "image/png": "[encoded data removed]",
      "text/plain": [
       "<matplotlib.figure.Figure at 0x1106c89e8>"
      ]
     },
     "metadata": {},
     "output_type": "display_data"
    },
    {
     "data": {
      "image/png": "[encoded data removed]",
      "text/plain": [
       "<matplotlib.figure.Figure at 0x1106f8e80>"
      ]
     },
     "metadata": {},
     "output_type": "display_data"
    },
    {
     "data": {
      "text/plain": [
       "2018-03-02    1.000000\n",
       "2018-03-05    0.994015\n",
       "2018-03-06    1.004545\n",
       "2018-03-07    0.998569\n",
       "2018-03-08    1.007899\n",
       "2018-03-09    1.009578\n",
       "dtype: float64"
      ]
     },
     "execution_count": 49,
     "metadata": {},
     "output_type": "execute_result"
    },
    {
     "data": {
      "image/png": "[encoded data removed]",
      "text/plain": [
       "<matplotlib.figure.Figure at 0x10dd6bd68>"
      ]
     },
     "metadata": {},
     "output_type": "display_data"
    }
   ],
   "source": [
    "# 起手式\n",
    "from finlab.backtest import backtest\n",
    "from finlab.data import Data\n",
    "import datetime\n",
    "%matplotlib inline\n",
    "\n",
    "# 回測\n",
    "data = Data()\n",
    "backtest(datetime.date(2018,3,1), datetime.date(2018,3,10), 60, mystrategy2, data)"
   ]
  },
  {
   "cell_type": "markdown",
   "metadata": {},
   "source": [
    "# 更新持股投資張數"
   ]
  },
  {
   "cell_type": "code",
   "execution_count": 50,
   "metadata": {},
   "outputs": [
    {
     "name": "stdout",
     "output_type": "stream",
     "text": [
      "estimate price according to 2018-05-28 00:00:00\n",
      "initial number of stock 23\n",
      "after considering fee 23\n",
      "after considering 1000 share 19\n",
      "---------------\n",
      "|  portfolio  |\n",
      "---------------\n",
      "stock_id\n",
      "1231    1.0\n",
      "1309    3.0\n",
      "1533    1.0\n",
      "1701    2.0\n",
      "1712    3.0\n",
      "1727    3.0\n",
      "1730    1.0\n",
      "2028    4.0\n",
      "2365    4.0\n",
      "2414    2.0\n",
      "2430    2.0\n",
      "2480    1.0\n",
      "2546    2.0\n",
      "2601    4.0\n",
      "3029    2.0\n",
      "3056    2.0\n",
      "4916    1.0\n",
      "5515    4.0\n",
      "6112    1.0\n",
      "Name: 2018-05-28 00:00:00, dtype: float64\n",
      "total cost\n",
      "855900.0\n"
     ]
    }
   ],
   "source": [
    "from finlab.backtest import portfolio\n",
    "\n",
    "data = Data()\n",
    "\n",
    "# 利用 mystrategy2 來產生股票清單 stocks\n",
    "stocks = mystrategy2(data)\n",
    "\n",
    "# 用portfolio來幫忙計算，給定 1000000 元，依照今天收盤價，股票張數要如何分配\n",
    "p, total_invest_money = portfolio(stocks.index, 1000000, data)\n",
    "\n",
    "# 印出股票資訊\n",
    "print('---------------')\n",
    "print('|  portfolio  |')\n",
    "print('---------------')\n",
    "print(p)\n",
    "print('total cost')\n",
    "print(total_invest_money)"
   ]
  }
 ],
 "metadata": {
  "kernelspec": {
   "display_name": "Python 3 (ipykernel)",
   "language": "python",
   "name": "python3"
  },
  "language_info": {
   "codemirror_mode": {
    "name": "ipython",
    "version": 3
   },
   "file_extension": ".py",
   "mimetype": "text/x-python",
   "name": "python",
   "nbconvert_exporter": "python",
   "pygments_lexer": "ipython3",
   "version": "3.9.13"
  }
 },
 "nbformat": 4,
 "nbformat_minor": 2
}
