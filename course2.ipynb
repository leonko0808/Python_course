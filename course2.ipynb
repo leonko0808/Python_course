{
 "cells": [
  {
   "cell_type": "markdown",
   "metadata": {},
   "source": [
    "\n",
    "# 財經小教學\n",
    "\n",
    "### 股票價值計算：\n",
    "\n",
    "假如我們要買股票，要怎麼計算需要多少錢呢？\n",
    "\n",
    "$$ 股票價值 = 股價 * 持有張數 * 1000 $$\n",
    "\n",
    "e.x: 10塊的股票2張，股票價值為\n",
    "$$ 10 * 2 * 1000 = 20000 元 $$\n",
    "\n",
    "    \n",
    "### 摩擦成本：\n",
    "        \n",
    "定義：交易時的成本，手續費跟證交稅（台股）\n",
    "\n",
    "* 手續費：每次買賣都要扣掉\n",
    "$$ 股票價值 * 手續費率（1.425 / 1000）$$\n",
    "* 證交稅：賣出時要多扣掉\n",
    "$$ 股票價值 * 證交稅率（3 / 1000）$$\n",
    "\n",
    "### 英文變數對應中文名稱：\n",
    "\n",
    "| 英文變數 | 中文名稱 |\n",
    "|-----|-----|\n",
    "| account | 帳戶資金|\n",
    "| stock_value | 股票價值 |\n",
    "| buy_amount | 持有張數 |\n",
    "| fee_ratio | 手續費率 |\n",
    "| tax_ratio | 證交稅率 |\n",
    "| stock_price | 股價 |\n"
   ]
  },
  {
   "cell_type": "markdown",
   "metadata": {},
   "source": [
    "# 程式練習"
   ]
  },
  {
   "cell_type": "code",
   "execution_count": 20,
   "metadata": {},
   "outputs": [
    {
     "name": "stdout",
     "output_type": "stream",
     "text": [
      "105797.95\n"
     ]
    }
   ],
   "source": [
    "\"\"\"\n",
    "上課習題：\n",
    "\n",
    "  帳戶有100000元\n",
    "\n",
    "  1. 買一張股價為30的股票\n",
    "  2. 股價漲了20%\n",
    "  3. 賣出\n",
    "\n",
    "  請問帳戶現在有多少錢？\n",
    "\"\"\"\n",
    "\n",
    "account = 100000\n",
    "stock_price = 30\n",
    "buy_amount = 1\n",
    "\n",
    "fee_ratio = 1.425 / 1000\n",
    "tax_ratio = 3 / 1000\n",
    "\n",
    "\n",
    "# 買股票，帳戶的錢變少\n",
    "stock_value = stock_price * buy_amount * 1000\n",
    "account = account - stock_value - stock_value * fee_ratio\n",
    "\n",
    "# 股價漲\n",
    "stock_price = stock_price * 1.2\n",
    "\n",
    "# 賣股票，帳戶的錢變多\n",
    "stock_value = stock_price * buy_amount * 1000\n",
    "account = account + stock_value - stock_value * (fee_ratio + tax_ratio)\n",
    "\n",
    "print(account)"
   ]
  },
  {
   "cell_type": "code",
   "execution_count": 5,
   "metadata": {},
   "outputs": [
    {
     "data": {
      "text/plain": [
       "'答對了'"
      ]
     },
     "execution_count": 5,
     "metadata": {},
     "output_type": "execute_result"
    }
   ],
   "source": [
    "\"\"\"\n",
    "回家作業：\n",
    "\n",
    "  帳戶有100000元\n",
    "\n",
    "  1. 買1張股價為35的股票\n",
    "  2. 股價漲了30%\n",
    "  3. 賣出\n",
    "\n",
    "  請問帳戶現在有多少錢？\n",
    "\"\"\"\n",
    "\n",
    "account = 100000\n",
    "stock_price = 35\n",
    "buy_amount = 1\n",
    "\n",
    "fee_ratio = 1.425 / 1000\n",
    "tax_ratio = 3 / 1000\n",
    "\n",
    "# 買股票\n",
    "stock_value = stock_price*buy_amount*1000\n",
    "account = account-stock_value-stock_value*fee_ratio\n",
    "# 股價漲\n",
    "stock_price = stock_price*1.30\n",
    "\n",
    "# 賣股票\n",
    "stock_value = stock_price*buy_amount*1000\n",
    "account = account+stock_value-stock_value*(tax_ratio+fee_ratio)\n",
    "\n",
    "'答對了' if account == 110248.7875 else '當中有一些小錯誤，再檢查一下吧！'"
   ]
  },
  {
   "cell_type": "code",
   "execution_count": 4,
   "metadata": {},
   "outputs": [
    {
     "name": "stdout",
     "output_type": "stream",
     "text": [
      "False\n"
     ]
    }
   ],
   "source": [
    "\"\"\"\n",
    "上課習題：布林\n",
    "\"\"\"\n",
    "\n",
    "a = (3 > 3)\n",
    "print(a)"
   ]
  },
  {
   "cell_type": "code",
   "execution_count": 7,
   "metadata": {},
   "outputs": [
    {
     "data": {
      "text/plain": [
       "'答對了'"
      ]
     },
     "execution_count": 7,
     "metadata": {},
     "output_type": "execute_result"
    }
   ],
   "source": [
    "\"\"\"\n",
    "上課習題：布林\n",
    "\n",
    "修改不等式，讓 a、b、c 都為 True\n",
    "\"\"\"\n",
    "\n",
    "a = 3 > 4\n",
    "b = 3 > 2 > 1\n",
    "c = 1 + 2 == 4\n",
    "\n",
    "\"\"\"\n",
    "以下為檢查用的代碼，不用管它們\n",
    "\"\"\"\n",
    "'答對了' if [a, b, c] == [False, True, False] else '當中有一些小錯誤，再檢查一下吧！'"
   ]
  },
  {
   "cell_type": "code",
   "execution_count": 8,
   "metadata": {},
   "outputs": [
    {
     "data": {
      "text/plain": [
       "'答對了'"
      ]
     },
     "execution_count": 8,
     "metadata": {},
     "output_type": "execute_result"
    }
   ],
   "source": [
    "\"\"\"\n",
    "回家作業\n",
    "型態：布林\n",
    "閱讀以下代碼，並將下方的題目完成！\n",
    "\"\"\"\n",
    "a = 3 > 4\n",
    "b = 3 > 2 > 0\n",
    "c = 1 + 2 == 4\n",
    "\n",
    "\"\"\"\n",
    "動手算 a、b、c 是True還是False\n",
    "將答案依序寫在第15行，讓程式跑出「答對了！」的字樣\n",
    "\"\"\"\n",
    "\n",
    "answers = [False, True, False]\n",
    "\n",
    "\"\"\"\n",
    "以下為檢查用的代碼，不用管它們\n",
    "\"\"\"\n",
    "'答對了' if [a, b, c] == answers else '當中有一些小錯誤，再檢查一下吧！'"
   ]
  },
  {
   "cell_type": "code",
   "execution_count": 15,
   "metadata": {},
   "outputs": [
    {
     "name": "stdout",
     "output_type": "stream",
     "text": [
      "d\n"
     ]
    },
    {
     "data": {
      "text/plain": [
       "'hello worldhello world'"
      ]
     },
     "execution_count": 15,
     "metadata": {},
     "output_type": "execute_result"
    }
   ],
   "source": [
    "\"\"\"\n",
    "上課練習，玩一下字串\n",
    "\"\"\"\n",
    "s = 'hello world'\n",
    "print(s[-1])\n",
    "s.count(\"l\")\n",
    "s.find('o')\n",
    "s+s\n"
   ]
  },
  {
   "cell_type": "code",
   "execution_count": 24,
   "metadata": {},
   "outputs": [
    {
     "name": "stdout",
     "output_type": "stream",
     "text": [
      "ABCDEK\n",
      "HI\n"
     ]
    },
    {
     "data": {
      "text/plain": [
       "'答對了'"
      ]
     },
     "execution_count": 24,
     "metadata": {},
     "output_type": "execute_result"
    }
   ],
   "source": [
    "\"\"\"\n",
    "回家作業\n",
    "型態：字串\n",
    "計算以下題目，將手寫a跟b依序寫在第16行\n",
    "雖然我們已經幫您把a跟b寫出來，在第16行，但似乎寫錯了，請糾正，讓程式跑出「答對了！」的字樣\n",
    "\"\"\"\n",
    "\n",
    "a = 'ABC' + 'DEF'\n",
    "b = \"HI\"\n",
    "b = b.replace('I', 'A')\n",
    "a= a.replace('F','K')\n",
    "b =\"HI\"\n",
    "print(a)\n",
    "print(b)\n",
    "\"\"\"\n",
    "手寫出 a、b ，將答案依序寫在第16行，讓程式跑出「答對了！」的字樣\n",
    "\"\"\"\n",
    "\n",
    "answers = ['ABCDEK', 'HI']\n",
    "\n",
    "'答對了' if [a, b] == answers else '當中有一些小錯誤，再檢查一下吧！'"
   ]
  },
  {
   "cell_type": "code",
   "execution_count": 25,
   "metadata": {},
   "outputs": [
    {
     "name": "stdout",
     "output_type": "stream",
     "text": [
      "[40, 60]\n"
     ]
    }
   ],
   "source": [
    "\"\"\"\n",
    "課堂練習，玩轉一下list\n",
    "\"\"\"\n",
    "\n",
    "li = [20, 40, 60, 80, 100]\n",
    "print(li[1:3])"
   ]
  },
  {
   "cell_type": "code",
   "execution_count": 28,
   "metadata": {},
   "outputs": [
    {
     "name": "stdout",
     "output_type": "stream",
     "text": [
      "7.4\n"
     ]
    },
    {
     "data": {
      "text/plain": [
       "'\\n解答：新版的課程在這題中不會顯示「答對」或「答錯」，請參考影片中的解答即可喔！\\n'"
      ]
     },
     "execution_count": 28,
     "metadata": {},
     "output_type": "execute_result"
    }
   ],
   "source": [
    "\"\"\"\n",
    "回家功課\n",
    "請閱讀以下的code，並修改第14、25、33、40行，讓四題都全對\n",
    "\"\"\"\n",
    "\n",
    "# 你前五個月的薪水，依時間順序，由遠到近為\n",
    "income = [2, 2, 2, 3, 3]\n",
    "\n",
    "# 最近五個月的花費為\n",
    "outcome = [1.3, 2.4, 1.8, 1.9, 1.2]\n",
    "\n",
    "\"\"\"\n",
    "第一題\n",
    "\n",
    "  最近你的薪水又下來了，因為認真工作，這個月變成4萬！如何修改income list呢？\n",
    "\"\"\"\n",
    "income.append(4)\n",
    "\n",
    "\"\"\"\n",
    "第二題\n",
    "\n",
    "  這半年薪水平均為多少（用程式計算）\n",
    "  請用sum()、跟len()完成！\n",
    "\"\"\" \n",
    "\n",
    "average_income = sum(income)/len(income)\n",
    "\n",
    "\"\"\"\n",
    "第三題\n",
    "\n",
    "  半年花費總共多少（用程式計算）\n",
    "\"\"\"\n",
    "\n",
    "total_outcome = sum(outcome)\n",
    "\n",
    "\"\"\"\n",
    "第四題\n",
    "\n",
    "  這半年共累積多少資產？\n",
    "\"\"\"\n",
    "balance = sum(income) - sum(outcome)\n",
    "print(balance)\n",
    "\n",
    "\"\"\"\n",
    "解答：新版的課程在這題中不會顯示「答對」或「答錯」，請參考影片中的解答即可喔！\n",
    "\"\"\""
   ]
  },
  {
   "cell_type": "code",
   "execution_count": 33,
   "metadata": {},
   "outputs": [
    {
     "data": {
      "text/plain": [
       "dict_keys(['小民', '大雄', 'Leon'])"
      ]
     },
     "execution_count": 33,
     "metadata": {},
     "output_type": "execute_result"
    }
   ],
   "source": [
    "\"\"\"\n",
    "課堂練習，玩轉一下字典（dictionary）\n",
    "\"\"\"\n",
    "\n",
    "score = {'小民': 90, '大雄': 80}\n",
    "score[\"Leon\"] = 100\n",
    "score[\"大雄\"]\n",
    "score.keys()"
   ]
  },
  {
   "cell_type": "code",
   "execution_count": 34,
   "metadata": {},
   "outputs": [
    {
     "data": {
      "text/plain": [
       "'答對了！'"
      ]
     },
     "execution_count": 34,
     "metadata": {},
     "output_type": "execute_result"
    }
   ],
   "source": [
    "\"\"\"\n",
    "回家功課\n",
    "  請閱讀以下代碼，並完成下方的題目\n",
    "\"\"\" \n",
    "\n",
    "position = {\n",
    "    '1526': 2,\n",
    "    '台泥': 1,\n",
    "    '1102': 3,\n",
    "    '2330': 2,\n",
    "    '帳戶餘額+交割金額': 40000,\n",
    "}\n",
    "\n",
    "a = position['1526']\n",
    "b = position['1102']\n",
    "\n",
    "\"\"\"\n",
    "題目：\n",
    "  \n",
    "  1. a + b 是多少？\n",
    "  2. a * b 是多少？\n",
    "  3. a ** b 是多少？\n",
    "  4. len(position) 是多少？\n",
    "  \n",
    "  請將上面四題的答案寫成一個數列（list）\n",
    "\"\"\"\n",
    "\n",
    "answer = [5, 6, 8, 5]\n",
    "\n",
    "\"\"\"\n",
    "按下執行(Run)，檢查你有沒有答對！\n",
    "以下的code用來檢查用的，可以忽略～\n",
    "\"\"\"\n",
    "\n",
    "'答對了！' if answer == [a + b, a * b, a ** b, len(position)] else '當中有一些小錯誤，再檢查一下吧！'"
   ]
  },
  {
   "cell_type": "code",
   "execution_count": 36,
   "metadata": {},
   "outputs": [
    {
     "data": {
      "text/plain": [
       "-2"
      ]
     },
     "execution_count": 36,
     "metadata": {},
     "output_type": "execute_result"
    }
   ],
   "source": [
    "\"\"\"\n",
    "課堂練習：寫一個減法的函數，並使用看看\n",
    "\"\"\"\n",
    "def sub(x,y):\n",
    "    ret = x-y\n",
    "    return ret\n",
    "\n",
    "a = 1\n",
    "b = 3\n",
    "sub(a,b)"
   ]
  },
  {
   "cell_type": "code",
   "execution_count": 39,
   "metadata": {},
   "outputs": [
    {
     "data": {
      "text/plain": [
       "'答對了！'"
      ]
     },
     "execution_count": 39,
     "metadata": {},
     "output_type": "execute_result"
    }
   ],
   "source": [
    "\"\"\"\n",
    "設計一個函數，叫做calculate_earning\n",
    "這個函數讀入買入價格、賣出價格、持有數量，並計算並返傳獲利。\n",
    "（不用考慮手續費）\n",
    "大家只需要修改以下第9行，讓程式跑出「答對了！」的字樣\n",
    "\"\"\"\n",
    "\n",
    "def calculate_earning(buy_price, sell_price, amount=1):\n",
    "    ret = (sell_price-buy_price)*amount*1000\n",
    "    return ret\n",
    "\n",
    "value = calculate_earning(30, 40, 2)\n",
    "\n",
    "\"\"\"\n",
    "按下執行(Run)，檢查你有沒有答對！\n",
    "以下的code用來檢查用的，可以忽略～\n",
    "\"\"\"\n",
    "'答對了！' if value == 20000 else '當中有一些小錯誤，再檢查一下吧！'"
   ]
  },
  {
   "cell_type": "code",
   "execution_count": 44,
   "metadata": {},
   "outputs": [
    {
     "data": {
      "text/plain": [
       "datetime.datetime(2023, 1, 22, 18, 5, 10, 828441)"
      ]
     },
     "execution_count": 44,
     "metadata": {},
     "output_type": "execute_result"
    }
   ],
   "source": [
    "\"\"\"\n",
    "課堂練習：顯示現在幾點\n",
    "\"\"\"\n",
    "import datetime\n",
    "datetime.datetime.now()"
   ]
  },
  {
   "cell_type": "code",
   "execution_count": 43,
   "metadata": {},
   "outputs": [
    {
     "name": "stdout",
     "output_type": "stream",
     "text": [
      "賺錢了\n"
     ]
    }
   ],
   "source": [
    "\"\"\"\n",
    "顯示究竟是否獲利？\n",
    "\"\"\"\n",
    "\n",
    "買入價 = 25\n",
    "賣出價 = 30\n",
    "\n",
    "if 買入價 < 賣出價:\n",
    "    print('賺錢了')\n",
    "elif 買入價 == 賣出價:\n",
    "    print('打平')\n",
    "else:\n",
    "    print('虧錢了')\n"
   ]
  },
  {
   "cell_type": "code",
   "execution_count": 49,
   "metadata": {},
   "outputs": [
    {
     "name": "stdout",
     "output_type": "stream",
     "text": [
      "0\n",
      "1\n",
      "2\n",
      "3\n",
      "4\n",
      "5\n",
      "6\n",
      "7\n",
      "1\n",
      "2\n",
      "3\n",
      "4\n",
      "0\n",
      "1\n",
      "2\n",
      "3\n",
      "4\n",
      "5\n",
      "6\n",
      "7\n"
     ]
    }
   ],
   "source": [
    "\"\"\"\n",
    "For 迴圈：分別印出1、2、3、4\n",
    "\"\"\"\n",
    "for i in range(0,8):\n",
    "    print(i)\n",
    "    \n",
    "print(1)\n",
    "print(2)\n",
    "print(3)\n",
    "print(4)\n",
    "i= 0\n",
    "while i<8:\n",
    "    print(i)\n",
    "    i = i+1"
   ]
  },
  {
   "cell_type": "code",
   "execution_count": 33,
   "metadata": {},
   "outputs": [
    {
     "name": "stdout",
     "output_type": "stream",
     "text": [
      "1\n",
      "1\n",
      "1\n",
      "1\n"
     ]
    }
   ],
   "source": [
    "\"\"\"\n",
    "While 迴圈：分別印出1、2、3、4\n",
    "\"\"\"\n",
    "\n",
    "print(1)\n",
    "print(1)\n",
    "print(1)\n",
    "print(1)\n"
   ]
  },
  {
   "cell_type": "markdown",
   "metadata": {},
   "source": [
    "# 相關python學習資料\n",
    "\n",
    "很多東西這個單元都只是點到為止，雖然很想要手把手將大家的python實力培養起來，但礙於時間真的不夠，而且網路上已經有豐富的教材，與其花時間做跟免費資源一樣的課程，我比較想要介紹更偏向財經、更實用的東西給大家，讓大家的學費沒有白繳！\n",
    "\n",
    "下面都是我在網路上看到，非常優秀的教學課程，不建議一開始就把所有的課看完，畢竟有點太多了，可以先跟著我們的課程，覺得程式上稍有不足，再去看下以下的免費課程：\n",
    "* [python101文本教學（適合有程式經驗的人）](https://happycoder.org/2016/12/31/python101-tutorial/)\n",
    "* [周莫烦的python視頻（初學者）（可以調整成兩倍速XD）](https://www.youtube.com/watch?v=1PC3etgLwVc&list=PLXO45tsB95cIRP5gCi8AlYwQ1uFO2aQBw)\n",
    "* [線上免費視頻（初學者）（英文課程）](https://www.udemy.com/pythonforbeginnersintro/)"
   ]
  }
 ],
 "metadata": {
  "kernelspec": {
   "display_name": "Python 3 (ipykernel)",
   "language": "python",
   "name": "python3"
  },
  "language_info": {
   "codemirror_mode": {
    "name": "ipython",
    "version": 3
   },
   "file_extension": ".py",
   "mimetype": "text/x-python",
   "name": "python",
   "nbconvert_exporter": "python",
   "pygments_lexer": "ipython3",
   "version": "3.9.13"
  }
 },
 "nbformat": 4,
 "nbformat_minor": 2
}
